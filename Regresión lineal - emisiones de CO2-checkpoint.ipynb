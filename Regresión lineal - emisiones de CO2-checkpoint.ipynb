{
 "cells": [
  {
   "cell_type": "code",
   "execution_count": 1,
   "id": "d1493ecd",
   "metadata": {},
   "outputs": [],
   "source": [
    "import pandas as pd\n",
    "import numpy as np\n",
    "import matplotlib.pyplot as plt"
   ]
  },
  {
   "cell_type": "code",
   "execution_count": 2,
   "id": "0f986db7",
   "metadata": {},
   "outputs": [],
   "source": [
    "ConsumoCombustible = \"https://s3-api.us-geo.objectstorage.softlayer.net/cf-courses-data/CognitiveClass/ML0101ENv3/labs/FuelConsumptionCo2.csv\""
   ]
  },
  {
   "cell_type": "code",
   "execution_count": 3,
   "id": "4e94c0af",
   "metadata": {},
   "outputs": [],
   "source": [
    "df = pd.read_csv(ConsumoCombustible)"
   ]
  },
  {
   "cell_type": "code",
   "execution_count": 4,
   "id": "52bac8c8",
   "metadata": {},
   "outputs": [
    {
     "data": {
      "text/html": [
       "<div>\n",
       "<style scoped>\n",
       "    .dataframe tbody tr th:only-of-type {\n",
       "        vertical-align: middle;\n",
       "    }\n",
       "\n",
       "    .dataframe tbody tr th {\n",
       "        vertical-align: top;\n",
       "    }\n",
       "\n",
       "    .dataframe thead th {\n",
       "        text-align: right;\n",
       "    }\n",
       "</style>\n",
       "<table border=\"1\" class=\"dataframe\">\n",
       "  <thead>\n",
       "    <tr style=\"text-align: right;\">\n",
       "      <th></th>\n",
       "      <th>MODELYEAR</th>\n",
       "      <th>MAKE</th>\n",
       "      <th>MODEL</th>\n",
       "      <th>VEHICLECLASS</th>\n",
       "      <th>ENGINESIZE</th>\n",
       "      <th>CYLINDERS</th>\n",
       "      <th>TRANSMISSION</th>\n",
       "      <th>FUELTYPE</th>\n",
       "      <th>FUELCONSUMPTION_CITY</th>\n",
       "      <th>FUELCONSUMPTION_HWY</th>\n",
       "      <th>FUELCONSUMPTION_COMB</th>\n",
       "      <th>FUELCONSUMPTION_COMB_MPG</th>\n",
       "      <th>CO2EMISSIONS</th>\n",
       "    </tr>\n",
       "  </thead>\n",
       "  <tbody>\n",
       "    <tr>\n",
       "      <th>0</th>\n",
       "      <td>2014</td>\n",
       "      <td>ACURA</td>\n",
       "      <td>ILX</td>\n",
       "      <td>COMPACT</td>\n",
       "      <td>2.0</td>\n",
       "      <td>4</td>\n",
       "      <td>AS5</td>\n",
       "      <td>Z</td>\n",
       "      <td>9.9</td>\n",
       "      <td>6.7</td>\n",
       "      <td>8.5</td>\n",
       "      <td>33</td>\n",
       "      <td>196</td>\n",
       "    </tr>\n",
       "    <tr>\n",
       "      <th>1</th>\n",
       "      <td>2014</td>\n",
       "      <td>ACURA</td>\n",
       "      <td>ILX</td>\n",
       "      <td>COMPACT</td>\n",
       "      <td>2.4</td>\n",
       "      <td>4</td>\n",
       "      <td>M6</td>\n",
       "      <td>Z</td>\n",
       "      <td>11.2</td>\n",
       "      <td>7.7</td>\n",
       "      <td>9.6</td>\n",
       "      <td>29</td>\n",
       "      <td>221</td>\n",
       "    </tr>\n",
       "    <tr>\n",
       "      <th>2</th>\n",
       "      <td>2014</td>\n",
       "      <td>ACURA</td>\n",
       "      <td>ILX HYBRID</td>\n",
       "      <td>COMPACT</td>\n",
       "      <td>1.5</td>\n",
       "      <td>4</td>\n",
       "      <td>AV7</td>\n",
       "      <td>Z</td>\n",
       "      <td>6.0</td>\n",
       "      <td>5.8</td>\n",
       "      <td>5.9</td>\n",
       "      <td>48</td>\n",
       "      <td>136</td>\n",
       "    </tr>\n",
       "    <tr>\n",
       "      <th>3</th>\n",
       "      <td>2014</td>\n",
       "      <td>ACURA</td>\n",
       "      <td>MDX 4WD</td>\n",
       "      <td>SUV - SMALL</td>\n",
       "      <td>3.5</td>\n",
       "      <td>6</td>\n",
       "      <td>AS6</td>\n",
       "      <td>Z</td>\n",
       "      <td>12.7</td>\n",
       "      <td>9.1</td>\n",
       "      <td>11.1</td>\n",
       "      <td>25</td>\n",
       "      <td>255</td>\n",
       "    </tr>\n",
       "    <tr>\n",
       "      <th>4</th>\n",
       "      <td>2014</td>\n",
       "      <td>ACURA</td>\n",
       "      <td>RDX AWD</td>\n",
       "      <td>SUV - SMALL</td>\n",
       "      <td>3.5</td>\n",
       "      <td>6</td>\n",
       "      <td>AS6</td>\n",
       "      <td>Z</td>\n",
       "      <td>12.1</td>\n",
       "      <td>8.7</td>\n",
       "      <td>10.6</td>\n",
       "      <td>27</td>\n",
       "      <td>244</td>\n",
       "    </tr>\n",
       "  </tbody>\n",
       "</table>\n",
       "</div>"
      ],
      "text/plain": [
       "   MODELYEAR   MAKE       MODEL VEHICLECLASS  ENGINESIZE  CYLINDERS  \\\n",
       "0       2014  ACURA         ILX      COMPACT         2.0          4   \n",
       "1       2014  ACURA         ILX      COMPACT         2.4          4   \n",
       "2       2014  ACURA  ILX HYBRID      COMPACT         1.5          4   \n",
       "3       2014  ACURA     MDX 4WD  SUV - SMALL         3.5          6   \n",
       "4       2014  ACURA     RDX AWD  SUV - SMALL         3.5          6   \n",
       "\n",
       "  TRANSMISSION FUELTYPE  FUELCONSUMPTION_CITY  FUELCONSUMPTION_HWY  \\\n",
       "0          AS5        Z                   9.9                  6.7   \n",
       "1           M6        Z                  11.2                  7.7   \n",
       "2          AV7        Z                   6.0                  5.8   \n",
       "3          AS6        Z                  12.7                  9.1   \n",
       "4          AS6        Z                  12.1                  8.7   \n",
       "\n",
       "   FUELCONSUMPTION_COMB  FUELCONSUMPTION_COMB_MPG  CO2EMISSIONS  \n",
       "0                   8.5                        33           196  \n",
       "1                   9.6                        29           221  \n",
       "2                   5.9                        48           136  \n",
       "3                  11.1                        25           255  \n",
       "4                  10.6                        27           244  "
      ]
     },
     "execution_count": 4,
     "metadata": {},
     "output_type": "execute_result"
    }
   ],
   "source": [
    "df.head()"
   ]
  },
  {
   "cell_type": "code",
   "execution_count": 5,
   "id": "e18d0a4a",
   "metadata": {},
   "outputs": [
    {
     "data": {
      "text/html": [
       "<div>\n",
       "<style scoped>\n",
       "    .dataframe tbody tr th:only-of-type {\n",
       "        vertical-align: middle;\n",
       "    }\n",
       "\n",
       "    .dataframe tbody tr th {\n",
       "        vertical-align: top;\n",
       "    }\n",
       "\n",
       "    .dataframe thead th {\n",
       "        text-align: right;\n",
       "    }\n",
       "</style>\n",
       "<table border=\"1\" class=\"dataframe\">\n",
       "  <thead>\n",
       "    <tr style=\"text-align: right;\">\n",
       "      <th></th>\n",
       "      <th>ENGINESIZE</th>\n",
       "      <th>FUELCONSUMPTION_CITY</th>\n",
       "      <th>FUELCONSUMPTION_HWY</th>\n",
       "      <th>FUELCONSUMPTION_COMB</th>\n",
       "      <th>CYLINDERS</th>\n",
       "      <th>CO2EMISSIONS</th>\n",
       "    </tr>\n",
       "  </thead>\n",
       "  <tbody>\n",
       "    <tr>\n",
       "      <th>0</th>\n",
       "      <td>2.0</td>\n",
       "      <td>9.9</td>\n",
       "      <td>6.7</td>\n",
       "      <td>8.5</td>\n",
       "      <td>4</td>\n",
       "      <td>196</td>\n",
       "    </tr>\n",
       "    <tr>\n",
       "      <th>1</th>\n",
       "      <td>2.4</td>\n",
       "      <td>11.2</td>\n",
       "      <td>7.7</td>\n",
       "      <td>9.6</td>\n",
       "      <td>4</td>\n",
       "      <td>221</td>\n",
       "    </tr>\n",
       "    <tr>\n",
       "      <th>2</th>\n",
       "      <td>1.5</td>\n",
       "      <td>6.0</td>\n",
       "      <td>5.8</td>\n",
       "      <td>5.9</td>\n",
       "      <td>4</td>\n",
       "      <td>136</td>\n",
       "    </tr>\n",
       "    <tr>\n",
       "      <th>3</th>\n",
       "      <td>3.5</td>\n",
       "      <td>12.7</td>\n",
       "      <td>9.1</td>\n",
       "      <td>11.1</td>\n",
       "      <td>6</td>\n",
       "      <td>255</td>\n",
       "    </tr>\n",
       "    <tr>\n",
       "      <th>4</th>\n",
       "      <td>3.5</td>\n",
       "      <td>12.1</td>\n",
       "      <td>8.7</td>\n",
       "      <td>10.6</td>\n",
       "      <td>6</td>\n",
       "      <td>244</td>\n",
       "    </tr>\n",
       "  </tbody>\n",
       "</table>\n",
       "</div>"
      ],
      "text/plain": [
       "   ENGINESIZE  FUELCONSUMPTION_CITY  FUELCONSUMPTION_HWY  \\\n",
       "0         2.0                   9.9                  6.7   \n",
       "1         2.4                  11.2                  7.7   \n",
       "2         1.5                   6.0                  5.8   \n",
       "3         3.5                  12.7                  9.1   \n",
       "4         3.5                  12.1                  8.7   \n",
       "\n",
       "   FUELCONSUMPTION_COMB  CYLINDERS  CO2EMISSIONS  \n",
       "0                   8.5          4           196  \n",
       "1                   9.6          4           221  \n",
       "2                   5.9          4           136  \n",
       "3                  11.1          6           255  \n",
       "4                  10.6          6           244  "
      ]
     },
     "execution_count": 5,
     "metadata": {},
     "output_type": "execute_result"
    }
   ],
   "source": [
    "df2 = df[[\"ENGINESIZE\", \"FUELCONSUMPTION_CITY\", \"FUELCONSUMPTION_HWY\", \"FUELCONSUMPTION_COMB\", \"CYLINDERS\", \"CO2EMISSIONS\"]]\n",
    "df2.head()"
   ]
  },
  {
   "cell_type": "code",
   "execution_count": 1,
   "id": "b74a8647",
   "metadata": {},
   "outputs": [
    {
     "ename": "NameError",
     "evalue": "name 'plt' is not defined",
     "output_type": "error",
     "traceback": [
      "\u001b[1;31m---------------------------------------------------------------------------\u001b[0m",
      "\u001b[1;31mNameError\u001b[0m                                 Traceback (most recent call last)",
      "Input \u001b[1;32mIn [1]\u001b[0m, in \u001b[0;36m<cell line: 1>\u001b[1;34m()\u001b[0m\n\u001b[1;32m----> 1\u001b[0m fig\u001b[38;5;241m=\u001b[39m\u001b[43mplt\u001b[49m\u001b[38;5;241m.\u001b[39mfigure(figsize\u001b[38;5;241m=\u001b[39m(\u001b[38;5;241m8\u001b[39m,\u001b[38;5;241m6\u001b[39m), facecolor\u001b[38;5;241m=\u001b[39m\u001b[38;5;124m\"\u001b[39m\u001b[38;5;124mivory\u001b[39m\u001b[38;5;124m\"\u001b[39m)\n\u001b[0;32m      3\u001b[0m ax_1\u001b[38;5;241m=\u001b[39mfig\u001b[38;5;241m.\u001b[39madd_subplot(\u001b[38;5;241m121\u001b[39m)\n\u001b[0;32m      4\u001b[0m plt\u001b[38;5;241m.\u001b[39mscatter(df2\u001b[38;5;241m.\u001b[39mCYLINDERS, df2\u001b[38;5;241m.\u001b[39mCO2EMISSIONS, color\u001b[38;5;241m=\u001b[39m\u001b[38;5;124m\"\u001b[39m\u001b[38;5;124mblue\u001b[39m\u001b[38;5;124m\"\u001b[39m)\n",
      "\u001b[1;31mNameError\u001b[0m: name 'plt' is not defined"
     ]
    }
   ],
   "source": [
    "fig=plt.figure(figsize=(8,6), facecolor=\"ivory\")\n",
    "\n",
    "ax_1=fig.add_subplot(121)\n",
    "plt.scatter(df2.CYLINDERS, df2.CO2EMISSIONS, color=\"blue\")\n",
    "plt.xlabel(\"Cilindros\")\n",
    "plt.ylabel(\"Emisiones de CO2\")\n",
    "#ax_1.text(0.3, 0.5, 'subplot(121)')\n",
    "\n",
    "ax_2=fig.add_subplot(222)\n",
    "plt.scatter(df2.FUELCONSUMPTION_CITY, df2.CO2EMISSIONS, color=\"blue\")\n",
    "plt.xlabel(\"Consumo en ciudad\")\n",
    "plt.ylabel(\"Emisiones de CO2\")\n",
    "#ax_2.text(0.3, 0.5, 'subplot(222)')\n",
    "\n",
    "ax_3=fig.add_subplot(224)\n",
    "plt.scatter(df2.FUELCONSUMPTION_HWY, df2.CO2EMISSIONS, color=\"blue\")\n",
    "plt.xlabel(\"Consumo en autopista\")\n",
    "plt.ylabel(\"Emisiones de CO2\")\n",
    "#ax_3.text(0.3, 0.5, 'subplot(224)')\n",
    "\n",
    "fig.suptitle(\"Emisiones de CO2 vs Cylinders, EngineSize, Fuel Consump HWY\")\n",
    "plt.show()"
   ]
  },
  {
   "cell_type": "code",
   "execution_count": 6,
   "id": "3a2ee6db",
   "metadata": {},
   "outputs": [
    {
     "data": {
      "image/png": "[encoded data removed]",
      "text/plain": [
       "<Figure size 432x288 with 1 Axes>"
      ]
     },
     "metadata": {
      "needs_background": "light"
     },
     "output_type": "display_data"
    }
   ],
   "source": [
    "plt.scatter(df2.ENGINESIZE, df2.CO2EMISSIONS, color=\"blue\")\n",
    "plt.xlabel(\"Tamaño del motor\")\n",
    "plt.ylabel(\"Emisiones CO2\")\n",
    "plt.show()"
   ]
  },
  {
   "cell_type": "code",
   "execution_count": 8,
   "id": "8f6ee9bd",
   "metadata": {},
   "outputs": [
    {
     "data": {
      "image/png": "[encoded data removed]",
      "text/plain": [
       "<Figure size 432x288 with 1 Axes>"
      ]
     },
     "metadata": {
      "needs_background": "light"
     },
     "output_type": "display_data"
    },
    {
     "data": {
      "image/png": "[encoded data removed]",
      "text/plain": [
       "<Figure size 432x288 with 1 Axes>"
      ]
     },
     "metadata": {
      "needs_background": "light"
     },
     "output_type": "display_data"
    },
    {
     "data": {
      "image/png": "[encoded data removed]",
      "text/plain": [
       "<Figure size 432x288 with 1 Axes>"
      ]
     },
     "metadata": {
      "needs_background": "light"
     },
     "output_type": "display_data"
    }
   ],
   "source": [
    "plt.scatter(df2.CYLINDERS, df2.CO2EMISSIONS, color=\"blue\")\n",
    "plt.xlabel(\"Cilindros\")\n",
    "plt.ylabel(\"Emisiones CO2\")\n",
    "plt.show()\n",
    "plt.scatter(df2.FUELCONSUMPTION_CITY, df2.CO2EMISSIONS, color=\"blue\")\n",
    "plt.xlabel(\"Consumo ciudad\")\n",
    "plt.ylabel(\"Emisiones CO2\")\n",
    "plt.show()\n",
    "plt.scatter(df2.FUELCONSUMPTION_HWY, df2.CO2EMISSIONS, color=\"blue\")\n",
    "plt.xlabel(\"Consumo autopista\")\n",
    "plt.ylabel(\"Emisiones CO2\")\n",
    "plt.show()"
   ]
  },
  {
   "cell_type": "code",
   "execution_count": 9,
   "id": "ed20861c",
   "metadata": {},
   "outputs": [],
   "source": [
    "filtro = np.random.rand(len(df2)) < 0.8\n",
    "entrenamiento = df2[filtro]\n",
    "pruebas = df2[~filtro]"
   ]
  },
  {
   "cell_type": "code",
   "execution_count": 10,
   "id": "6a32c102",
   "metadata": {},
   "outputs": [
    {
     "data": {
      "text/plain": [
       "<bound method NDFrame.describe of       ENGINESIZE  FUELCONSUMPTION_CITY  FUELCONSUMPTION_HWY  \\\n",
       "0            2.0                   9.9                  6.7   \n",
       "1            2.4                  11.2                  7.7   \n",
       "2            1.5                   6.0                  5.8   \n",
       "3            3.5                  12.7                  9.1   \n",
       "5            3.5                  11.9                  7.7   \n",
       "...          ...                   ...                  ...   \n",
       "1061         3.2                  13.0                  8.9   \n",
       "1062         3.0                  13.4                  9.8   \n",
       "1064         3.0                  13.4                  9.8   \n",
       "1065         3.2                  12.9                  9.3   \n",
       "1066         3.2                  14.9                 10.2   \n",
       "\n",
       "      FUELCONSUMPTION_COMB  CYLINDERS  CO2EMISSIONS  \n",
       "0                      8.5          4           196  \n",
       "1                      9.6          4           221  \n",
       "2                      5.9          4           136  \n",
       "3                     11.1          6           255  \n",
       "5                     10.0          6           230  \n",
       "...                    ...        ...           ...  \n",
       "1061                  11.2          6           258  \n",
       "1062                  11.8          6           271  \n",
       "1064                  11.8          6           271  \n",
       "1065                  11.3          6           260  \n",
       "1066                  12.8          6           294  \n",
       "\n",
       "[860 rows x 6 columns]>"
      ]
     },
     "execution_count": 10,
     "metadata": {},
     "output_type": "execute_result"
    }
   ],
   "source": [
    "entrenamiento.describe"
   ]
  },
  {
   "cell_type": "code",
   "execution_count": 11,
   "id": "2e564949",
   "metadata": {},
   "outputs": [],
   "source": [
    "from sklearn import linear_model\n",
    "AlgortimoRegresionMultipleLineal = linear_model.LinearRegression()"
   ]
  },
  {
   "cell_type": "code",
   "execution_count": 12,
   "id": "3ec50822",
   "metadata": {},
   "outputs": [
    {
     "data": {
      "text/plain": [
       "LinearRegression()"
      ]
     },
     "execution_count": 12,
     "metadata": {},
     "output_type": "execute_result"
    }
   ],
   "source": [
    "SetEntrenamiento_X = np.asanyarray(entrenamiento[[\"ENGINESIZE\", \"FUELCONSUMPTION_HWY\", \"CYLINDERS\"]])\n",
    "SetEntrenamiento_Y = np.asanyarray(entrenamiento[[\"CO2EMISSIONS\"]])\n",
    "AlgortimoRegresionMultipleLineal.fit(SetEntrenamiento_X, SetEntrenamiento_Y)"
   ]
  },
  {
   "cell_type": "code",
   "execution_count": 13,
   "id": "02d40129",
   "metadata": {},
   "outputs": [
    {
     "name": "stdout",
     "output_type": "stream",
     "text": [
      "El coeficiente es:  [[11.82932312 10.24084973  9.49952962]]\n"
     ]
    }
   ],
   "source": [
    "print(\"El coeficiente es: \", AlgortimoRegresionMultipleLineal.coef_)"
   ]
  },
  {
   "cell_type": "code",
   "execution_count": 14,
   "id": "a7faac8d",
   "metadata": {},
   "outputs": [
    {
     "name": "stdout",
     "output_type": "stream",
     "text": [
      "MSE - Error Cuadrado Medio o suma residual de cuadrados: 517.44\n"
     ]
    }
   ],
   "source": [
    "#YHat = AlgortimoRegresionMultipleLineal.predict(pruebas[[\"ENGINESIZE\", \"FUELCONSUMPTION_HWY\", \"CYLINDERS\"]])\n",
    "SetPruebas_X = np.asanyarray(pruebas[[\"ENGINESIZE\", \"FUELCONSUMPTION_HWY\", \"CYLINDERS\"]])\n",
    "SetPruebas_Y = np.asanyarray(pruebas[[\"CO2EMISSIONS\"]])\n",
    "Predicciones_Y = AlgortimoRegresionMultipleLineal.predict(SetPruebas_X)\n",
    "print(\"MSE - Error Cuadrado Medio o suma residual de cuadrados: %.2f\" % np.mean((Predicciones_Y - SetPruebas_Y)**2))"
   ]
  },
  {
   "cell_type": "code",
   "execution_count": 15,
   "id": "f83c2293",
   "metadata": {},
   "outputs": [
    {
     "name": "stdout",
     "output_type": "stream",
     "text": [
      "Variance score: 0.87 \n"
     ]
    }
   ],
   "source": [
    "print(\"Variance score: %.2f \" %AlgortimoRegresionMultipleLineal.score(SetPruebas_X, SetPruebas_Y))"
   ]
  }
 ],
 "metadata": {
  "kernelspec": {
   "display_name": "Python 3 (ipykernel)",
   "language": "python",
   "name": "python3"
  },
  "language_info": {
   "codemirror_mode": {
    "name": "ipython",
    "version": 3
   },
   "file_extension": ".py",
   "mimetype": "text/x-python",
   "name": "python",
   "nbconvert_exporter": "python",
   "pygments_lexer": "ipython3",
   "version": "3.9.12"
  }
 },
 "nbformat": 4,
 "nbformat_minor": 5
}
